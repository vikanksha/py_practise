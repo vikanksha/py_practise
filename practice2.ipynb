{
 "cells": [
  {
   "cell_type": "code",
   "execution_count": 13,
   "metadata": {},
   "outputs": [
    {
     "ename": "TypeError",
     "evalue": "select_even_numbers() takes 1 positional argument but 4 were given",
     "output_type": "error",
     "traceback": [
      "\u001b[0;31m---------------------------------------------------------------------------\u001b[0m",
      "\u001b[0;31mTypeError\u001b[0m                                 Traceback (most recent call last)",
      "\u001b[0;32m<ipython-input-13-f5a0cb26e298>\u001b[0m in \u001b[0;36m<module>\u001b[0;34m\u001b[0m\n\u001b[1;32m      7\u001b[0m             \u001b[0ma\u001b[0m \u001b[0;34m+=\u001b[0m \u001b[0;36m1\u001b[0m\u001b[0;34m\u001b[0m\u001b[0;34m\u001b[0m\u001b[0m\n\u001b[1;32m      8\u001b[0m         \u001b[0;32mreturn\u001b[0m \u001b[0mvar\u001b[0m\u001b[0;34m\u001b[0m\u001b[0;34m\u001b[0m\u001b[0m\n\u001b[0;32m----> 9\u001b[0;31m \u001b[0mselect_even_numbers\u001b[0m\u001b[0;34m(\u001b[0m\u001b[0;36m12\u001b[0m\u001b[0;34m,\u001b[0m\u001b[0;36m13\u001b[0m\u001b[0;34m,\u001b[0m\u001b[0;36m15\u001b[0m\u001b[0;34m,\u001b[0m\u001b[0;36m8\u001b[0m\u001b[0;34m)\u001b[0m\u001b[0;34m\u001b[0m\u001b[0;34m\u001b[0m\u001b[0m\n\u001b[0m",
      "\u001b[0;31mTypeError\u001b[0m: select_even_numbers() takes 1 positional argument but 4 were given"
     ]
    }
   ],
   "source": [
    "def select_even_number(num):\n",
    "    var = numlist[0]\n",
    "    for a in var:\n",
    "        if a%2==0:\n",
    "             continue\n",
    "        else:\n",
    "            a += 1\n",
    "        return var\n",
    "select_even_numbers(12,13,15,8)"
   ]
  },
  {
   "cell_type": "code",
   "execution_count": 21,
   "metadata": {},
   "outputs": [
    {
     "name": "stdout",
     "output_type": "stream",
     "text": [
      "0 234\n",
      "2 345\n",
      "4 53\n"
     ]
    }
   ],
   "source": [
    "#WAP to print the index of all odd numbers.\n",
    "x = [234,52,345,34,53]\n",
    "for i in range (len(x)):\n",
    "    if i%2==0:\n",
    "        print(i,x[i])"
   ]
  },
  {
   "cell_type": "code",
   "execution_count": 37,
   "metadata": {},
   "outputs": [
    {
     "data": {
      "text/plain": [
       "'ppl'"
      ]
     },
     "execution_count": 37,
     "metadata": {},
     "output_type": "execute_result"
    }
   ],
   "source": [
    "#WAP to delete all vowels from a string.\n",
    "def dlt_vowel(string):\n",
    "    str1 = \"\"\n",
    "    for i in string:\n",
    "        if i.lower() in \"aeiou\":\n",
    "            continue\n",
    "        else:\n",
    "            str1 = str1+i\n",
    "    return str1\n",
    "dlt_vowel(\"apple\")               \n",
    "                \n"
   ]
  },
  {
   "cell_type": "code",
   "execution_count": 43,
   "metadata": {},
   "outputs": [
    {
     "data": {
      "text/plain": [
       "'ae'"
      ]
     },
     "execution_count": 43,
     "metadata": {},
     "output_type": "execute_result"
    }
   ],
   "source": [
    "#WAP to filter all vowels in a given string.\n",
    "def get_vowel(string):\n",
    "    str1=\"\"\n",
    "    for i in string:\n",
    "        if i.lower() in \"aeiou\":\n",
    "             str1 = str1+i\n",
    "    return str1\n",
    "get_vowel(\"apple\")        \n",
    "        "
   ]
  },
  {
   "cell_type": "code",
   "execution_count": 46,
   "metadata": {},
   "outputs": [
    {
     "data": {
      "text/plain": [
       "False"
      ]
     },
     "execution_count": 46,
     "metadata": {},
     "output_type": "execute_result"
    }
   ],
   "source": [
    "#WAP to check if a given string has same consecutive vowels.\n",
    "def same_consecutive_vowel(str1):\n",
    "    for i in range(len(str1)-1):\n",
    "        if str1[i] == str1[i+1] and str1[i].lower() in \"aeiou\":\n",
    "            print(str1[i])\n",
    "            return True\n",
    "    else:\n",
    "        return False\n",
    "same_consecutive_vowel(\"apple\")"
   ]
  },
  {
   "cell_type": "code",
   "execution_count": 53,
   "metadata": {},
   "outputs": [
    {
     "name": "stdout",
     "output_type": "stream",
     "text": [
      "23\n"
     ]
    }
   ],
   "source": [
    "#WAP to get the sum of first digits from a list of numbers.\n",
    "def add_first_digit(num_list):\n",
    "    total = 0\n",
    "    for i in num_list:\n",
    "        total = total+int(str(i)[0])\n",
    "    return total\n",
    "print(add_first_digit([34, 56, 700, 8001]))\n",
    "        "
   ]
  },
  {
   "cell_type": "code",
   "execution_count": null,
   "metadata": {},
   "outputs": [],
   "source": []
  }
 ],
 "metadata": {
  "kernelspec": {
   "display_name": "Python 3",
   "language": "python",
   "name": "python3"
  },
  "language_info": {
   "codemirror_mode": {
    "name": "ipython",
    "version": 3
   },
   "file_extension": ".py",
   "mimetype": "text/x-python",
   "name": "python",
   "nbconvert_exporter": "python",
   "pygments_lexer": "ipython3",
   "version": "3.7.3"
  }
 },
 "nbformat": 4,
 "nbformat_minor": 2
}
