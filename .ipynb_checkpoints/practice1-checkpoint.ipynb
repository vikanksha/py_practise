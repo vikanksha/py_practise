{
 "cells": [
  {
   "cell_type": "code",
   "execution_count": null,
   "metadata": {},
   "outputs": [],
   "source": [
    "11.#WAP to add two integers, floating point and complex numbers."
   ]
  },
  {
   "cell_type": "code",
   "execution_count": 3,
   "metadata": {},
   "outputs": [
    {
     "name": "stdout",
     "output_type": "stream",
     "text": [
      "6\n"
     ]
    }
   ],
   "source": [
    "def sum_two_integers(a,b):\n",
    "    sum = a+b\n",
    "    return sum\n",
    "print(sum_two_integers(2,4))\n",
    "    "
   ]
  },
  {
   "cell_type": "code",
   "execution_count": 4,
   "metadata": {},
   "outputs": [
    {
     "name": "stdout",
     "output_type": "stream",
     "text": [
      "-0.5\n"
     ]
    }
   ],
   "source": [
    "print(sum_two_integers(-2,1.5))"
   ]
  },
  {
   "cell_type": "code",
   "execution_count": 6,
   "metadata": {},
   "outputs": [
    {
     "name": "stdout",
     "output_type": "stream",
     "text": [
      "(4+6j)\n"
     ]
    }
   ],
   "source": [
    "print(sum_two_integers(1+2j,3+4j))"
   ]
  },
  {
   "cell_type": "code",
   "execution_count": 7,
   "metadata": {},
   "outputs": [
    {
     "name": "stdout",
     "output_type": "stream",
     "text": [
      "900\n"
     ]
    }
   ],
   "source": [
    "12.#WAP to find the area of a square with given side length.\n",
    "def area_of_square(a):\n",
    "    area = a**2\n",
    "    return area\n",
    "print(area_of_square(30))\n"
   ]
  },
  {
   "cell_type": "code",
   "execution_count": 19,
   "metadata": {},
   "outputs": [
    {
     "name": "stdout",
     "output_type": "stream",
     "text": [
      "24.023808670084982\n"
     ]
    }
   ],
   "source": [
    "#WAP to find the BMI (body mass index) for weight in kg and height in meter.\n",
    "def body_mass_index(wt,ht):\n",
    "        bmi =  wt/ht**2\n",
    "        return bmi\n",
    "print(body_mass_index(67,1.67))"
   ]
  },
  {
   "cell_type": "code",
   "execution_count": 30,
   "metadata": {},
   "outputs": [
    {
     "name": "stdout",
     "output_type": "stream",
     "text": [
      "82.4\n"
     ]
    }
   ],
   "source": [
    "#WAP to convert temperature from Celsius to Fahrenheit scale.\n",
    "def temp_conversion_cel_to_fahren(c):\n",
    "    faren = (c*9/5)+32\n",
    "    return faren\n",
    "print(temp_conversion_cel_to_fahren(28.0))\n"
   ]
  },
  {
   "cell_type": "code",
   "execution_count": 45,
   "metadata": {},
   "outputs": [
    {
     "name": "stdout",
     "output_type": "stream",
     "text": [
      "5.0\n"
     ]
    }
   ],
   "source": [
    "#WAP to find hypotenuse of a right angled triangle using Pythagorous theorem.\n",
    "\n",
    "def hypo_right_angle_triangle(b,c):\n",
    "    hypotenuse = (b**2)+(c**2)\n",
    "    return math.sqrt(hypotenuse)\n",
    "print(hypo_right_angle_triangle(3,4))\n"
   ]
  },
  {
   "cell_type": "code",
   "execution_count": 139,
   "metadata": {},
   "outputs": [
    {
     "name": "stdout",
     "output_type": "stream",
     "text": [
      "14.137166941154069\n"
     ]
    }
   ],
   "source": [
    "#WAP to find the area of a half circle using the given radius.\n",
    "\n",
    "def area_half_circle(r):\n",
    "    area = (math.pi*r**2)/2\n",
    "    return (area)\n",
    "print(area_half_circle(3))"
   ]
  },
  {
   "cell_type": "code",
   "execution_count": 145,
   "metadata": {},
   "outputs": [
    {
     "name": "stdout",
     "output_type": "stream",
     "text": [
      "6\n"
     ]
    }
   ],
   "source": [
    "#WAP to find the maximun, minimum and sum from a given list of numbers.\n",
    "max = None\n",
    "list = [-1, 6, -3, -4, -5]\n",
    "for a in list:\n",
    "    if max is None:\n",
    "        max = a\n",
    "    if a>max:\n",
    "        max = a\n",
    "print(max)       \n"
   ]
  },
  {
   "cell_type": "code",
   "execution_count": 86,
   "metadata": {},
   "outputs": [
    {
     "name": "stdout",
     "output_type": "stream",
     "text": [
      "1\n"
     ]
    }
   ],
   "source": [
    "min = 0\n",
    "list = [1, 6, 3, 4, 5]\n",
    "for a in list:\n",
    "    if min is 0:\n",
    "        min = a\n",
    "    if a<min:\n",
    "        min = a\n",
    "print(min) "
   ]
  },
  {
   "cell_type": "code",
   "execution_count": 146,
   "metadata": {},
   "outputs": [
    {
     "name": "stdout",
     "output_type": "stream",
     "text": [
      "19\n"
     ]
    }
   ],
   "source": [
    "sum = 0\n",
    "list = [1,6,3,4,5]\n",
    "for a in list:\n",
    "    sum = sum+a\n",
    "\n",
    "print(sum)"
   ]
  },
  {
   "cell_type": "code",
   "execution_count": null,
   "metadata": {},
   "outputs": [],
   "source": [
    "#WAP to the ascii order of a given character\n",
    "def ascii_code(ord):\n",
    "    "
   ]
  },
  {
   "cell_type": "code",
   "execution_count": 147,
   "metadata": {},
   "outputs": [
    {
     "name": "stdout",
     "output_type": "stream",
     "text": [
      "1\n"
     ]
    }
   ],
   "source": [
    "#WAP to find the the discriminant of a quadratic equation ax^2+bx+c.\n",
    "def dis_eqn(a,b,c):\n",
    "    dis = (b**2)-(4*a*c)\n",
    "    return dis\n",
    "print(dis_eqn(1,3,2))"
   ]
  },
  {
   "cell_type": "code",
   "execution_count": null,
   "metadata": {},
   "outputs": [],
   "source": [
    "WAP to find the distance between two points on the graph with their co-ordinates as (x1, y1) and (x2, y2)."
   ]
  },
  {
   "cell_type": "code",
   "execution_count": 118,
   "metadata": {},
   "outputs": [
    {
     "name": "stdout",
     "output_type": "stream",
     "text": [
      "False\n"
     ]
    }
   ],
   "source": [
    "#WAP to check if a given number is positive and even\n",
    "def validate_number(a):\n",
    "    if a>0 and a%2==0:\n",
    "        print(True)\n",
    "    else:\n",
    "        print(False)\n",
    "    \n",
    "validate_number(3)\n"
   ]
  },
  {
   "cell_type": "code",
   "execution_count": null,
   "metadata": {},
   "outputs": [],
   "source": []
  },
  {
   "cell_type": "code",
   "execution_count": 124,
   "metadata": {},
   "outputs": [
    {
     "name": "stdout",
     "output_type": "stream",
     "text": [
      "False\n"
     ]
    }
   ],
   "source": [
    "#WAP to check if a given number is divisible by 7 or 11.\n",
    "def divisible_no(a):\n",
    "    if a%7==0 or a%11==0:\n",
    "        print(True)\n",
    "    else:\n",
    "        print(False)\n",
    "divisible_no(23)        "
   ]
  },
  {
   "cell_type": "code",
   "execution_count": 157,
   "metadata": {},
   "outputs": [
    {
     "name": "stdout",
     "output_type": "stream",
     "text": [
      "False\n"
     ]
    }
   ],
   "source": [
    "#WAP to check if a given number can represent a leap year.\n",
    "def leap_year(a):\n",
    "    if a%4==0:\n",
    "        print(True)\n",
    "    else:\n",
    "        print(False)\n",
    "leap_year(121)        "
   ]
  },
  {
   "cell_type": "code",
   "execution_count": 160,
   "metadata": {},
   "outputs": [
    {
     "ename": "SyntaxError",
     "evalue": "invalid syntax (<ipython-input-160-deffdcc95a32>, line 3)",
     "output_type": "error",
     "traceback": [
      "\u001b[0;36m  File \u001b[0;32m\"<ipython-input-160-deffdcc95a32>\"\u001b[0;36m, line \u001b[0;32m3\u001b[0m\n\u001b[0;31m    for i range (2,inp):\u001b[0m\n\u001b[0m              ^\u001b[0m\n\u001b[0;31mSyntaxError\u001b[0m\u001b[0;31m:\u001b[0m invalid syntax\n"
     ]
    }
   ],
   "source": [
    "#WAP to check if a given number is Prime.\n",
    "def prime_no(inp):\n",
    "    for i range (2,inp):\n",
    "        if inp%i==0:\n",
    "        print(True)    \n",
    "    else:\n",
    "        print(False)\n",
    "        \n",
    "prime_no(9)\n"
   ]
  },
  {
   "cell_type": "code",
   "execution_count": null,
   "metadata": {},
   "outputs": [],
   "source": []
  },
  {
   "cell_type": "code",
   "execution_count": 134,
   "metadata": {},
   "outputs": [
    {
     "data": {
      "text/plain": [
       "False"
      ]
     },
     "execution_count": 134,
     "metadata": {},
     "output_type": "execute_result"
    }
   ],
   "source": [
    "#WAP to check if three given number can represent sides of equilateral triangle.\n",
    "def triangle(a,b,c):\n",
    "    \n",
    "    if a==b==c and a>0:\n",
    "        return True\n",
    "    else:\n",
    "\n",
    "        return False\n",
    "triangle(-1,-1,-1)    \n"
   ]
  },
  {
   "cell_type": "code",
   "execution_count": 148,
   "metadata": {},
   "outputs": [
    {
     "data": {
      "text/plain": [
       "True"
      ]
     },
     "execution_count": 148,
     "metadata": {},
     "output_type": "execute_result"
    }
   ],
   "source": [
    "#WAP to check if three given number can represent sides of isosceles triangle\n",
    "def isocales_triangles(a,b,c):\n",
    "    if a==b==c :\n",
    "        return False\n",
    "    elif a==b or b==c or c==a:\n",
    "        return True\n",
    "    else:\n",
    "        return False\n",
    "isocales_triangles(2,1,2)    "
   ]
  },
  {
   "cell_type": "code",
   "execution_count": 171,
   "metadata": {},
   "outputs": [
    {
     "data": {
      "text/plain": [
       "'Buzz'"
      ]
     },
     "execution_count": 171,
     "metadata": {},
     "output_type": "execute_result"
    }
   ],
   "source": [
    "#WAP to return \"Fizz\" if the given number is divisible by 3, \"Buzz\" if it is divisble by 5, \n",
    "#\"FizzBuzz\" if it is divisble by both and the same number if it is divisible by none.\n",
    "def validation(a):\n",
    "    if a%3==0 and a%5==0:\n",
    "        return \"FizzBuzz\"\n",
    "    if a%5==0:\n",
    "        return \"Buzz\"\n",
    "    if a%3==0:\n",
    "        return \"Fizz\"\n",
    "    else:\n",
    "        return \"None\"\n",
    "validation(5)    \n",
    "    "
   ]
  },
  {
   "cell_type": "code",
   "execution_count": null,
   "metadata": {},
   "outputs": [],
   "source": [
    "#Write a function that converts the time from military to regular format. \n"
   ]
  }
 ],
 "metadata": {
  "kernelspec": {
   "display_name": "Python 3",
   "language": "python",
   "name": "python3"
  },
  "language_info": {
   "codemirror_mode": {
    "name": "ipython",
    "version": 3
   },
   "file_extension": ".py",
   "mimetype": "text/x-python",
   "name": "python",
   "nbconvert_exporter": "python",
   "pygments_lexer": "ipython3",
   "version": "3.7.3"
  }
 },
 "nbformat": 4,
 "nbformat_minor": 2
}
